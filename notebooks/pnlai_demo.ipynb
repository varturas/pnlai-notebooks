{
 "cells": [
  {
   "cell_type": "markdown",
   "id": "b7c5bd26-a268-4a0c-9d2d-8c080225766e",
   "metadata": {},
   "source": [
    "# Notebook to collaborate on PnL AI algos and strategies"
   ]
  },
  {
   "cell_type": "code",
   "execution_count": 10,
   "id": "49bdf000-0749-4b31-b06c-895a4248ff76",
   "metadata": {},
   "outputs": [],
   "source": [
    "import sys, os, datetime, time\n",
    "import pandas as pd\n",
    "import logging as log\n",
    "import traceback\n",
    "import boto3\n",
    "import requests\n",
    "from typing import List, Any"
   ]
  },
  {
   "cell_type": "code",
   "execution_count": 6,
   "id": "28ec9dfe-1535-48cb-83a2-7026c18bd88f",
   "metadata": {},
   "outputs": [],
   "source": [
    "def ls_s3(\n",
    "    bucket_name:str=\"reports.pnlai.com\",\n",
    "    prefix:str=\"json/\"\n",
    "    ) -> List[str]:\n",
    "    s3 = boto3.client(\"s3\")\n",
    "    response = s3.list_objects_v2(Bucket=bucket_name, Prefix=prefix)\n",
    "    # list available objects\n",
    "    ls = []\n",
    "    if \"Contents\" in response:\n",
    "        for obj in response[\"Contents\"]:\n",
    "            ls.append(obj['Key'])\n",
    "        return ls\n",
    "    else:\n",
    "        raise ValueError(\"No Objects Found\")\n",
    "\n",
    "def get_s3(\n",
    "    file_key:str,\n",
    "    root_url:str=\"https://s3.us-west-2.amazonaws.com\",\n",
    "    bucket_name:str=\"reports.pnlai.com\"\n",
    "    ) -> Any \n",
    "    # Define the URL of the S3 object\n",
    "    file_url = f\"{root_url}/{bucket_name}/{file_key}\"\n",
    "    # Fetch the file\n",
    "    response = requests.get(file_url)\n",
    "    if response.status_code == 200:\n",
    "        if 'json' in file_key:\n",
    "            data = response.json()\n",
    "            return data\n",
    "        else:\n",
    "            data = response.text\n",
    "            return data\n",
    "    else:\n",
    "        raise ValueError(f\"Failed to fetch the file: {response.status_code}\")"
   ]
  },
  {
   "cell_type": "code",
   "execution_count": 9,
   "id": "715ac3fe-5184-4824-aa0c-7e63fcd1a77e",
   "metadata": {},
   "outputs": [
    {
     "data": {
      "text/plain": [
       "['html/anomalies_20240206.html',\n",
       " 'html/anomalies_20240207.html',\n",
       " 'html/anomalies_20240208.html',\n",
       " 'html/anomalies_20240209.html',\n",
       " 'html/anomalies_20240211.html',\n",
       " 'html/anomalies_20240212.html',\n",
       " 'html/anomalies_20240213.html',\n",
       " 'html/anomalies_20240214.html',\n",
       " 'html/anomalies_20240215.html',\n",
       " 'html/anomalies_20240220.html']"
      ]
     },
     "execution_count": 9,
     "metadata": {},
     "output_type": "execute_result"
    }
   ],
   "source": [
    "ls_s3(prefix=\"html/\")[20:30]"
   ]
  },
  {
   "cell_type": "code",
   "execution_count": null,
   "id": "fd484b53-3cc4-4314-9e38-48324acea93f",
   "metadata": {},
   "outputs": [],
   "source": [
    "'html/anomalies_20240212.html'"
   ]
  }
 ],
 "metadata": {
  "kernelspec": {
   "display_name": "Python 3 (ipykernel)",
   "language": "python",
   "name": "python3"
  },
  "language_info": {
   "codemirror_mode": {
    "name": "ipython",
    "version": 3
   },
   "file_extension": ".py",
   "mimetype": "text/x-python",
   "name": "python",
   "nbconvert_exporter": "python",
   "pygments_lexer": "ipython3",
   "version": "3.10.9"
  }
 },
 "nbformat": 4,
 "nbformat_minor": 5
}
